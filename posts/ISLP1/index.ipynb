{
  "cells": [
    {
      "cell_type": "raw",
      "metadata": {},
      "source": [
        "---\n",
        "title: \"ISLP Introduction\"\n",
        "categories: [learning]\n",
        "toc: true\n",
        "---"
      ],
      "id": "c67a7be4"
    },
    {
      "cell_type": "markdown",
      "metadata": {},
      "source": [
        "I discovered “An Introduction to Statistical Learning” (ISLR) a few years ago, and since then, it’s become my go-to reference for machine learning. A real classic!\n",
        "\n",
        "Lately, I’ve been itching to dive deeper into the new edition—especially with the updated chapters, Python labs, and all the fresh content.\n",
        "\n",
        "Between the book itself, the video lectures available on edX (and other platforms), and the **awesome** book club run by the DSLC community, I’ve really immersed myself in this world.\n",
        "\n",
        "It’s been the perfect opportunity to revisit the fundamentals with a fresh, more relaxed mindset. Learning just for the joy of it—rather than to pass a test—is a totally different experience. And honestly, it’s so much more satisfying.\n",
        "\n",
        "To keep a record of this deep dive, I decided to start a blog. The good news? It’s incredibly easy to set up with Quarto, and hosting it on GitHub is a breeze.\n",
        "\n",
        "I’m not trying to summarize the book or highlight the key concepts. That’s not the goal. I just want to take the time to explore the parts that speak to me—to reflect, to play, to understand better. Kind of like a personal study journal, but online.\n",
        "\n",
        "All my modest reflections can be found under “ISLP” in the top banner of this website.\n",
        "\n",
        "\n",
        "\n",
        "\n",
        "\n",
        "\n",
        "<details>\n",
        "<summary>📊 Données simulées par classe</summary>\n"
      ],
      "id": "c2412b4c"
    },
    {
      "cell_type": "code",
      "metadata": {},
      "source": [
        "#| code-fold: true\n",
        "#| layout-ncol: 2\n",
        "\n",
        "plt.figure(figsize=(6, 5))\n",
        "plt.scatter(df[df.Y == 0]['X1'], df[df.Y == 0]['X2'], label='Class 0', alpha=0.7)\n",
        "plt.scatter(df[df.Y == 1]['X1'], df[df.Y == 1]['X2'], label='Classe 1', alpha=0.7)\n",
        "plt.xlabel(\"X1\")\n",
        "plt.ylabel(\"X2\")\n",
        "plt.title(\"Simulated Data\")\n",
        "plt.legend()\n",
        "plt.grid(True)\n",
        "plt.show()\n",
        "\n",
        "# Visualisation 2\n",
        "plt.figure(figsize=(6, 5))\n",
        "plt.hist(df['X1'], bins=20, color='skyblue')\n",
        "plt.title(\"Distribution de X1\")\n",
        "plt.grid(True)\n",
        "plt.show()"
      ],
      "id": "b160d57f",
      "execution_count": null,
      "outputs": []
    },
    {
      "cell_type": "markdown",
      "metadata": {},
      "source": [
        "</details>"
      ],
      "id": "7df6d4bf"
    }
  ],
  "metadata": {
    "kernelspec": {
      "name": "venv",
      "language": "python",
      "display_name": "venv"
    }
  },
  "nbformat": 4,
  "nbformat_minor": 5
}